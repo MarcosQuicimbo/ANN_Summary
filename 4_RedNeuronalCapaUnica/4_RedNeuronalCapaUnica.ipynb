{
 "cells": [
  {
   "cell_type": "code",
   "execution_count": 2,
   "metadata": {},
   "outputs": [
    {
     "name": "stdout",
     "output_type": "stream",
     "text": [
      "Output: [[0.72421224]\n",
      " [0.78033118]\n",
      " [0.79492716]\n",
      " [0.83983887]]\n"
     ]
    }
   ],
   "source": [
    "import numpy as np\n",
    "\n",
    "# Función de activación sigmoidal\n",
    "def sigmoid(x):\n",
    "    return 1 / (1 + np.exp(-x))\n",
    "\n",
    "# Datos de entrada y salida\n",
    "input_data = np.array([[0, 0], [0, 1], [1, 0], [1, 1]])  # Ejemplos\n",
    "expected_output = np.array([[0], [1], [1], [0]])  # Clases esperadas\n",
    "\n",
    "# Inicializar pesos y sesgos\n",
    "input_layer_neurons = input_data.shape[1]  # Número de características\n",
    "print(input_layer_neurons)\n",
    "output_neurons = 1  # Número de neuronas en la capa de salida\n",
    "\n",
    "weights = np.random.uniform(size=(input_layer_neurons, output_neurons))\n",
    "biases = np.random.uniform(size=(1, output_neurons))\n",
    "\n",
    "# Forward pass\n",
    "weighted_sum = np.dot(input_data, weights) + biases\n",
    "output = sigmoid(weighted_sum)\n",
    "\n",
    "print(\"Output:\", output)\n"
   ]
  }
 ],
 "metadata": {
  "kernelspec": {
   "display_name": "DataScienceEnv",
   "language": "python",
   "name": "python3"
  },
  "language_info": {
   "codemirror_mode": {
    "name": "ipython",
    "version": 3
   },
   "file_extension": ".py",
   "mimetype": "text/x-python",
   "name": "python",
   "nbconvert_exporter": "python",
   "pygments_lexer": "ipython3",
   "version": "3.11.3"
  },
  "orig_nbformat": 4
 },
 "nbformat": 4,
 "nbformat_minor": 2
}
