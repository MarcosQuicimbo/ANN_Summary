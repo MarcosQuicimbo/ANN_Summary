{
 "cells": [
  {
   "cell_type": "code",
   "execution_count": 1,
   "metadata": {},
   "outputs": [
    {
     "name": "stdout",
     "output_type": "stream",
     "text": [
      "Softmax Result: [0.65900114 0.24243297 0.09856589]\n",
      "Sum: 1.0\n"
     ]
    }
   ],
   "source": [
    "#función Softmax es comúnmente utilizada en problemas de clasificación multiclase\n",
    "# para convertir un vector de valores en una distribución de probabilidades.\n",
    "import numpy as np\n",
    "#  convierte un vector de valores arbitrarios en una distribución de probabilidad \n",
    "# donde cada valor se convierte en la probabilidad relativa.\n",
    "def softmax(x):\n",
    "    e_x = np.exp(x - np.max(x))  # Restar el máximo para la estabilidad numérica\n",
    "    return e_x / e_x.sum(axis=0)\n",
    "\n",
    "# Vector de ejemplo\n",
    "z = np.array([2.0, 1.0, 0.1])\n",
    "\n",
    "# Aplicar Softmax\n",
    "softmax_result = softmax(z)\n",
    "print(\"Softmax Result:\", softmax_result)\n",
    "print(\"Sum:\", np.sum(softmax_result))\n"
   ]
  }
 ],
 "metadata": {
  "kernelspec": {
   "display_name": "DataScienceEnv",
   "language": "python",
   "name": "python3"
  },
  "language_info": {
   "codemirror_mode": {
    "name": "ipython",
    "version": 3
   },
   "file_extension": ".py",
   "mimetype": "text/x-python",
   "name": "python",
   "nbconvert_exporter": "python",
   "pygments_lexer": "ipython3",
   "version": "3.11.3"
  },
  "orig_nbformat": 4
 },
 "nbformat": 4,
 "nbformat_minor": 2
}
